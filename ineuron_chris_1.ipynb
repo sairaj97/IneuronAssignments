{
 "cells": [
  {
   "cell_type": "code",
   "execution_count": 74,
   "id": "ddc4c807",
   "metadata": {},
   "outputs": [
    {
     "name": "stdout",
     "output_type": "stream",
     "text": [
      "Enter the string: frfr56 656\n"
     ]
    }
   ],
   "source": [
    "S = str(input(\"Enter the string: \"))\n",
    "def lengthstr(S):\n",
    "    \"\"\"To calculate the lengh of string without using len() fuction\"\"\"\n",
    "    l=0\n",
    "    for i in S:\n",
    "        l = l+1\n",
    "    return l"
   ]
  },
  {
   "cell_type": "code",
   "execution_count": 75,
   "id": "0398b762",
   "metadata": {},
   "outputs": [
    {
     "data": {
      "text/plain": [
       "10"
      ]
     },
     "execution_count": 75,
     "metadata": {},
     "output_type": "execute_result"
    }
   ],
   "source": [
    "lengthstr(S)"
   ]
  },
  {
   "cell_type": "code",
   "execution_count": null,
   "id": "39ca217c",
   "metadata": {},
   "outputs": [],
   "source": []
  },
  {
   "cell_type": "code",
   "execution_count": null,
   "id": "2914f74a",
   "metadata": {},
   "outputs": [],
   "source": []
  }
 ],
 "metadata": {
  "kernelspec": {
   "display_name": "Python 3 (ipykernel)",
   "language": "python",
   "name": "python3"
  },
  "language_info": {
   "codemirror_mode": {
    "name": "ipython",
    "version": 3
   },
   "file_extension": ".py",
   "mimetype": "text/x-python",
   "name": "python",
   "nbconvert_exporter": "python",
   "pygments_lexer": "ipython3",
   "version": "3.9.7"
  }
 },
 "nbformat": 4,
 "nbformat_minor": 5
}
