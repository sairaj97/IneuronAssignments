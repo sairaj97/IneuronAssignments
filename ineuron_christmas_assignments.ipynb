{
 "cells": [
  {
   "cell_type": "code",
   "execution_count": 3,
   "id": "7a787b2b",
   "metadata": {},
   "outputs": [],
   "source": [
    "def lengthstr(S):\n",
    "    S = str(input(\"Enter the string: \"))\n",
    "    \"\"\" 1. To calculate the lengh of string without using len() fuction \"\"\"\n",
    "    l=0\n",
    "    for i in S:\n",
    "        l = l+1\n",
    "    return l"
   ]
  },
  {
   "cell_type": "code",
   "execution_count": 4,
   "id": "39a0dead",
   "metadata": {},
   "outputs": [
    {
     "name": "stdout",
     "output_type": "stream",
     "text": [
      "Enter the string: gtrrtyrt\n"
     ]
    },
    {
     "data": {
      "text/plain": [
       "8"
      ]
     },
     "execution_count": 4,
     "metadata": {},
     "output_type": "execute_result"
    }
   ],
   "source": [
    "lengthstr(S)"
   ]
  },
  {
   "cell_type": "code",
   "execution_count": 6,
   "id": "da4f3f39",
   "metadata": {},
   "outputs": [],
   "source": [
    "def ind(p):\n",
    "    \"\"\" 2. fun which will be able to print an index of all premitive element which you will pass \"\"\"\n",
    "    I=[]\n",
    "    J=[]\n",
    "    for i in p:\n",
    "        I.append(i)\n",
    "    for j in range(len(p)):\n",
    "        J.append(j)\n",
    "    return dict(zip(I,J))"
   ]
  },
  {
   "cell_type": "code",
   "execution_count": 7,
   "id": "71a63382",
   "metadata": {},
   "outputs": [
    {
     "data": {
      "text/plain": [
       "{'fr': 0, 45: 1, 12.5: 2, True: 3}"
      ]
     },
     "execution_count": 7,
     "metadata": {},
     "output_type": "execute_result"
    }
   ],
   "source": [
    "ind([\"fr\", 45, 12.5, True])"
   ]
  },
  {
   "cell_type": "code",
   "execution_count": 8,
   "id": "bbf5d9a9",
   "metadata": {},
   "outputs": [],
   "source": [
    "def diclis(q):\n",
    "    \"\"\" 3. fun which will take input as a dict and give me out as a list of all the values \n",
    "    even in case of 2 level nesting it should work\"\"\"\n",
    "    L = []\n",
    "    for i in q.values():\n",
    "        if type(i)==dict:\n",
    "            for j in i.values():\n",
    "                if type(j)==dict:\n",
    "                    for k in j.values():\n",
    "                        L.append(k)\n",
    "                else:\n",
    "                    L.append(j)\n",
    "        else:\n",
    "            L.append(i)\n",
    "    return L"
   ]
  },
  {
   "cell_type": "code",
   "execution_count": 9,
   "id": "444ce1b3",
   "metadata": {},
   "outputs": [
    {
     "data": {
      "text/plain": [
       "[34, 67, 78, 45, 684, 90, 68]"
      ]
     },
     "execution_count": 9,
     "metadata": {},
     "output_type": "execute_result"
    }
   ],
   "source": [
    "diclis({'ede':34,'rg':67, 'yu':78, 'hj':{'er':{'67':45, 'jj':684}, 'gh':90}, 'rf':68})"
   ]
  },
  {
   "cell_type": "code",
   "execution_count": 12,
   "id": "71fe728f",
   "metadata": {},
   "outputs": [
    {
     "name": "stdout",
     "output_type": "stream",
     "text": [
      "4\n"
     ]
    }
   ],
   "source": [
    "a = int(input())\n",
    "def square():\n",
    "    return a**2\n",
    "def cube(square):\n",
    "    \"\"\" 4. write a fun which will take another function as an input and return me an output\"\"\" \n",
    "    return square()*a"
   ]
  },
  {
   "cell_type": "code",
   "execution_count": 13,
   "id": "239c9c88",
   "metadata": {},
   "outputs": [
    {
     "data": {
      "text/plain": [
       "64"
      ]
     },
     "execution_count": 13,
     "metadata": {},
     "output_type": "execute_result"
    }
   ],
   "source": [
    "cube(square)"
   ]
  },
  {
   "cell_type": "code",
   "execution_count": 19,
   "id": "f9a9cd0a",
   "metadata": {},
   "outputs": [],
   "source": [
    "def ind(p):\n",
    "    \"\"\" 6. function which will be able to take a list as an input return an index of each element \n",
    "    like a inbuilt index function but even if we have repetative element it should return index\"\"\"\n",
    "    I=[]\n",
    "    J=[]\n",
    "    for i in p:\n",
    "        I.append(i)\n",
    "    for j in range(len(p)):\n",
    "        J.append(j)\n",
    "    return dict(zip(J,I))"
   ]
  },
  {
   "cell_type": "code",
   "execution_count": 20,
   "id": "d64e9a09",
   "metadata": {},
   "outputs": [
    {
     "data": {
      "text/plain": [
       "{0: 'sai', 1: 45, 2: 45, 3: 'sai', 4: 1, 5: 2, 6: 3}"
      ]
     },
     "execution_count": 20,
     "metadata": {},
     "output_type": "execute_result"
    }
   ],
   "source": [
    "ind([\"sai\",45,45,\"sai\",1,2,3])"
   ]
  },
  {
   "cell_type": "code",
   "execution_count": 21,
   "id": "ed2ef833",
   "metadata": {},
   "outputs": [],
   "source": [
    "def dirview(path):\n",
    "    \"\"\" 7. function which will whould return list of all the file name from a directory\"\"\"\n",
    "    import os\n",
    "    return os.listdir(path) "
   ]
  },
  {
   "cell_type": "code",
   "execution_count": 22,
   "id": "90aa117a",
   "metadata": {},
   "outputs": [
    {
     "data": {
      "text/plain": [
       "['messages.pot',\n",
       " 'app.db',\n",
       " 'migrations',\n",
       " '.DS_Store',\n",
       " 'config.py',\n",
       " 'app',\n",
       " 'requirements.txt',\n",
       " '__pycache__',\n",
       " 'microblog.py',\n",
       " 'logs',\n",
       " 'babel.cfg',\n",
       " 'venv',\n",
       " 'tests.py',\n",
       " '.git',\n",
       " '.idea']"
      ]
     },
     "execution_count": 22,
     "metadata": {},
     "output_type": "execute_result"
    }
   ],
   "source": [
    "dirview('/Users/kustarddev/Desktop/microblog')"
   ]
  },
  {
   "cell_type": "code",
   "execution_count": 23,
   "id": "66565b8f",
   "metadata": {},
   "outputs": [],
   "source": [
    "def sysview():\n",
    "    \"\"\" 8. function which will be able to show your system configuration\"\"\"\n",
    "    import platform as p\n",
    "    import psutil as ps\n",
    "    print(f\"computer network name: {p.node()}\")\n",
    "    print(f\"processor type: {p.processor()}\")\n",
    "    print(f\"operating system: {p.system()}\")\n",
    "    print(f\"platform type: {p.platform()}\")\n",
    "    print(f\"number of physical cores: {ps.cpu_count(logical=False)}\")\n",
    "    print(f\"number of logical cores: {ps.cpu_count(logical=True)}\")\n",
    "    T = ps.cpu_count(logical=True)/ps.cpu_count(logical=False)\n",
    "    print(f\"number of threads: {T}\")\n",
    "    print(f\"current cpu frequency: {ps.cpu_freq().current}\")\n",
    "    print(f\"total RAM: {round(ps.virtual_memory().total/1000000000, 2)} GB\")\n",
    "    print(f\"available RAM: {round(ps.virtual_memory().available/1000000000, 2)} GB\")\n",
    "    print(f\"RAM usage: {ps.virtual_memory().percent} %\")"
   ]
  },
  {
   "cell_type": "code",
   "execution_count": 24,
   "id": "79580cf1",
   "metadata": {},
   "outputs": [
    {
     "name": "stdout",
     "output_type": "stream",
     "text": [
      "computer network name: users-Mac-mini.local\n",
      "processor type: i386\n",
      "operating system: Darwin\n",
      "platform type: macOS-10.14.6-x86_64-i386-64bit\n",
      "number of physical cores: 2\n",
      "number of logical cores: 4\n",
      "number of threads: 2.0\n",
      "current cpu frequency: 2600\n",
      "total RAM: 8.59 GB\n",
      "available RAM: 3.75 GB\n",
      "RAM usage: 56.4 %\n"
     ]
    }
   ],
   "source": [
    "sysview()"
   ]
  },
  {
   "cell_type": "code",
   "execution_count": 25,
   "id": "c50d64a3",
   "metadata": {},
   "outputs": [],
   "source": [
    "def DT():\n",
    "    \"\"\" 9. function which will be able to show date and time\"\"\"\n",
    "    import datetime\n",
    "    print(f\"current date and time is: {datetime.datetime.now()}\")"
   ]
  },
  {
   "cell_type": "code",
   "execution_count": 26,
   "id": "a8dbe435",
   "metadata": {},
   "outputs": [
    {
     "name": "stdout",
     "output_type": "stream",
     "text": [
      "current date and time is: 2022-02-11 21:42:40.674463\n"
     ]
    }
   ],
   "source": [
    "DT()"
   ]
  },
  {
   "cell_type": "code",
   "execution_count": 27,
   "id": "8f9b191b",
   "metadata": {},
   "outputs": [],
   "source": [
    "def ishow(path):\n",
    "    \"\"\" 10. function whihc will be able to read a image file and show it to you\"\"\"\n",
    "    from PIL import Image\n",
    "    img = Image.open(path)\n",
    "    return img.show()"
   ]
  },
  {
   "cell_type": "code",
   "execution_count": 28,
   "id": "aa39bac0",
   "metadata": {},
   "outputs": [],
   "source": [
    "ishow('/Users/kustarddev/Downloads/sairaj pramod sawant - Intro to Deep Learning.png')"
   ]
  },
  {
   "cell_type": "code",
   "execution_count": 29,
   "id": "525b0764",
   "metadata": {},
   "outputs": [],
   "source": [
    "def vshow(path):\n",
    "    \"\"\" 11. function which can read video file and play for you\"\"\"\n",
    "    import numpy as np\n",
    "    import cv2\n",
    "\n",
    "    cap = cv2.VideoCapture(path)\n",
    "\n",
    "    while(cap.isOpened()):\n",
    "        ret, frame = cap.read()\n",
    "        cv2.imshow('frame',frame)\n",
    "        if cv2.waitKey(0) & 0xFF == ord('q'):\n",
    "            break\n",
    "\n",
    "    cap.release()\n",
    "    cv2.destroyAllWindows()"
   ]
  },
  {
   "cell_type": "code",
   "execution_count": null,
   "id": "7b7f5552",
   "metadata": {},
   "outputs": [],
   "source": [
    "vshow('/Users/kustarddev/Downloads/1640891013944.mp4')"
   ]
  },
  {
   "cell_type": "code",
   "execution_count": 1,
   "id": "380f6eaa",
   "metadata": {},
   "outputs": [],
   "source": [
    "def filemo(src,dest):\n",
    "    \"\"\" 12. function whihc can move a file from one directory to another directory\"\"\"\n",
    "    import os\n",
    "    import shutil\n",
    "    shutil.move(src, dest)"
   ]
  },
  {
   "cell_type": "code",
   "execution_count": null,
   "id": "bc3746b7",
   "metadata": {},
   "outputs": [],
   "source": [
    "filemo(\"/Users/kustarddev/Desktop/sai456/requirement.txt\",\"/Users/kustarddev/Desktop/sai\")"
   ]
  },
  {
   "cell_type": "code",
   "execution_count": 3,
   "id": "e846d302",
   "metadata": {},
   "outputs": [],
   "source": [
    "def shutdown():\n",
    "    \"\"\" 13. function which will be able to shutdonw your system\"\"\"\n",
    "    import os\n",
    "    os.system(\"shutdown /s /t 1\")"
   ]
  },
  {
   "cell_type": "code",
   "execution_count": 4,
   "id": "3cc25a06",
   "metadata": {},
   "outputs": [],
   "source": [
    "def readpdf(path):\n",
    "    \"\"\" 16. func to read a complete PDf file\"\"\"\n",
    "    import PyPDF2\n",
    "    pdfFileObj = open(path,'rb')\n",
    "    pdfReader = PyPDF2.PdfFileReader(pdfFileObj)\n",
    "    print(pdfReader.numPages)\n",
    "    pageObj = pdfReader.getPage(0)\n",
    "    print(pageObj.extractText())\n",
    "    pdfFileObj.close()"
   ]
  },
  {
   "cell_type": "code",
   "execution_count": 7,
   "id": "cceaf676",
   "metadata": {},
   "outputs": [],
   "source": [
    "def ip_address():\n",
    "    \"\"\" 19. function by which you can print an ip address of your system\"\"\"\n",
    "    import socket   \n",
    "    hostname = socket.gethostname()   \n",
    "    IPAddr = socket.gethostbyname(hostname)   \n",
    "    print(\"Your Computer Name is:\" + hostname)   \n",
    "    print(\"Your Computer IP Address is:\" + IPAddr) "
   ]
  }
 ],
 "metadata": {
  "kernelspec": {
   "display_name": "Python 3 (ipykernel)",
   "language": "python",
   "name": "python3"
  },
  "language_info": {
   "codemirror_mode": {
    "name": "ipython",
    "version": 3
   },
   "file_extension": ".py",
   "mimetype": "text/x-python",
   "name": "python",
   "nbconvert_exporter": "python",
   "pygments_lexer": "ipython3",
   "version": "3.9.7"
  }
 },
 "nbformat": 4,
 "nbformat_minor": 5
}
